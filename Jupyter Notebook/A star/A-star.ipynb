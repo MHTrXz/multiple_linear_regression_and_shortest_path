{
 "cells": [
  {
   "cell_type": "markdown",
   "id": "ec1ee883",
   "metadata": {
    "pycharm": {
     "name": "#%% md\n"
    }
   },
   "source": [
    "# Find Best Flights - A Star"
   ]
  },
  {
   "cell_type": "markdown",
   "id": "9c05dfdb",
   "metadata": {
    "pycharm": {
     "name": "#%% md\n"
    }
   },
   "source": [
    "#### load libraries "
   ]
  },
  {
   "cell_type": "code",
   "execution_count": 36,
   "id": "dffc3463",
   "metadata": {
    "pycharm": {
     "name": "#%%\n"
    }
   },
   "outputs": [],
   "source": [
    "import heapq\n",
    "from pandas import read_csv"
   ]
  },
  {
   "cell_type": "markdown",
   "id": "6dffd27a",
   "metadata": {
    "pycharm": {
     "name": "#%% md\n"
    }
   },
   "source": [
    "#### Set DataFrame"
   ]
  },
  {
   "cell_type": "code",
   "execution_count": 37,
   "id": "8f2ab585",
   "metadata": {
    "pycharm": {
     "name": "#%%\n"
    }
   },
   "outputs": [],
   "source": [
    "df = read_csv('Flight_Data.csv')\n",
    "\n",
    "print(df)"
   ]
  },
  {
   "cell_type": "markdown",
   "id": "f006982b",
   "metadata": {
    "pycharm": {
     "name": "#%% md\n"
    }
   },
   "source": [
    "### A star Configs"
   ]
  },
  {
   "cell_type": "markdown",
   "id": "b04594b7",
   "metadata": {
    "direction": "rtl",
    "pycharm": {
     "name": "#%% md\n"
    }
   },
   "source": [
    "با استفاده از ضرایب خواسته شده وزن هر مسیر مشخص می شود و بر اساس آن مسیریابی انجام می شود."
   ]
  },
  {
   "cell_type": "code",
   "execution_count": 1,
   "id": "ab469519",
   "metadata": {
    "pycharm": {
     "name": "#%%\n"
    }
   },
   "outputs": [],
   "source": [
    "Time = 0\n",
    "Distance = 1\n",
    "Price = 0"
   ]
  },
  {
   "cell_type": "markdown",
   "id": "aea02b93",
   "metadata": {
    "pycharm": {
     "name": "#%% md\n"
    }
   },
   "source": [
    "### Heuristic weight"
   ]
  },
  {
   "cell_type": "markdown",
   "id": "c4a9280e",
   "metadata": {
    "direction": "rtl",
    "pycharm": {
     "name": "#%% md\n"
    }
   },
   "source": [
    "این ضریب تاثیر وزن تابع Heuristic را مشخص می کند."
   ]
  },
  {
   "cell_type": "code",
   "execution_count": 2,
   "id": "302779e0",
   "metadata": {
    "pycharm": {
     "name": "#%%\n"
    }
   },
   "outputs": [],
   "source": [
    "heuristic_weight = 2"
   ]
  },
  {
   "cell_type": "markdown",
   "id": "6bf62c5f",
   "metadata": {
    "pycharm": {
     "name": "#%% md\n"
    }
   },
   "source": [
    "### Weight calculator for A star"
   ]
  },
  {
   "cell_type": "code",
   "execution_count": 25,
   "id": "f074327a",
   "metadata": {
    "pycharm": {
     "name": "#%%\n"
    }
   },
   "outputs": [],
   "source": [
    "def calculate(distance, flyTime, price, Source, Destination):\n",
    "    dijkstra = round(Time * flyTime + Distance * distance + Price * price)\n",
    "    heuristic = round(\n",
    "        (((Source.Latitude - Destination.Latitude) ** 2) +\n",
    "         ((Source.Longitude - Destination.Longitude) ** 2) +\n",
    "         ((Source.Altitude - Destination.Altitude) ** 2)) ** 0.5)\n",
    "    return round(dijkstra + heuristic_weight * heuristic)"
   ]
  },
  {
   "cell_type": "markdown",
   "id": "06a85176",
   "metadata": {
    "pycharm": {
     "name": "#%% md\n"
    }
   },
   "source": [
    "#### Node CLass"
   ]
  },
  {
   "cell_type": "code",
   "execution_count": 26,
   "id": "91a167bb",
   "metadata": {
    "pycharm": {
     "name": "#%%\n"
    }
   },
   "outputs": [],
   "source": [
    "class Node:\n",
    "    def __init__(self, Airport, Airport_Country, Airport_City, Latitude, Longitude, Altitude):\n",
    "        # Source data\n",
    "        self.Airport = Airport\n",
    "        self.Country = Airport_Country\n",
    "        self.City = Airport_City\n",
    "        self.Latitude = Latitude\n",
    "        self.Longitude = Longitude\n",
    "        self.Altitude = Altitude\n",
    "\n",
    "    def __str__(self):\n",
    "        return self.City + \"-\" + self.Airport + \", \" + self.Country"
   ]
  },
  {
   "cell_type": "markdown",
   "id": "0bde1d16",
   "metadata": {
    "pycharm": {
     "name": "#%% md\n"
    }
   },
   "source": [
    "#### Edge Class"
   ]
  },
  {
   "cell_type": "code",
   "execution_count": 27,
   "id": "17f48b5a",
   "metadata": {
    "pycharm": {
     "name": "#%%\n"
    }
   },
   "outputs": [],
   "source": [
    "class Edge:\n",
    "    def __init__(self, Source, Destination, FinalDestination, distance, flyTime, price):\n",
    "        self.price = round(price, 2)\n",
    "        self.flyTime = round(flyTime, 2)\n",
    "        self.distance = round(distance, 2)\n",
    "        self.destination = Destination\n",
    "        self.source = Source\n",
    "        self.weight = calculate(distance, flyTime, price, Source, FinalDestination)\n",
    "\n",
    "    def __str__(self):\n",
    "        return \"From: \" + str(self.source) + \"\\nTo: \" + str(self.destination) + \"\\nDuration: \" + str(\n",
    "            self.distance) + \"km\\nTime: \" + str(self.flyTime) + \"h\\nPrice: \" + str(self.price) + \"$\"\n",
    "\n",
    "    def __gt__(self, other):\n",
    "        return self.weight > other.weight"
   ]
  },
  {
   "cell_type": "markdown",
   "id": "8f6deb7a",
   "metadata": {
    "pycharm": {
     "name": "#%% md\n"
    }
   },
   "source": [
    "#### Find Unique Nodes"
   ]
  },
  {
   "cell_type": "code",
   "execution_count": 28,
   "id": "9db779f6",
   "metadata": {
    "pycharm": {
     "name": "#%%\n"
    }
   },
   "outputs": [],
   "source": [
    "nodes = set()\n",
    "for data in df.values:\n",
    "    nodes.add(data[3] + \",\" + data[1] + \",\" + data[4] + \",\" + str(data[5]) + \",\" + str(data[6]) + \",\" + str(data[7]))\n",
    "    nodes.add(data[8] + \",\" + data[2] + \",\" + data[9] + \",\" + str(data[10]) + \",\" + str(data[11]) + \",\" + str(data[12]))\n",
    "    \n",
    "print(nodes)"
   ]
  },
  {
   "cell_type": "markdown",
   "id": "ccfdc434",
   "metadata": {
    "pycharm": {
     "name": "#%% md\n"
    }
   },
   "source": [
    "### Make Node classes from nodes (set)\n",
    "used for create Edge class"
   ]
  },
  {
   "cell_type": "code",
   "execution_count": 29,
   "id": "3307409c",
   "metadata": {
    "pycharm": {
     "name": "#%%\n"
    }
   },
   "outputs": [],
   "source": [
    "NodeClass = []\n",
    "for i in nodes:\n",
    "    data = i.split(',')\n",
    "    NodeClass.append(Node(data[1], data[2], data[0], float(data[3]), float(data[4]), float(data[5])))\n",
    "    \n",
    "print(NodeClass)"
   ]
  },
  {
   "cell_type": "markdown",
   "id": "1e957f1d",
   "metadata": {
    "pycharm": {
     "name": "#%% md\n"
    }
   },
   "source": [
    "#### Getting input\n",
    "It's like \"Imam Khomeini International Airport - Raleigh Durham International Airport\""
   ]
  },
  {
   "cell_type": "code",
   "execution_count": 30,
   "id": "a18233eb",
   "metadata": {
    "pycharm": {
     "name": "#%%\n"
    }
   },
   "outputs": [
    {
     "name": "stdout",
     "output_type": "stream",
     "text": [
      "Imam Khomeini International Airport - Raleigh Durham International Airport\n"
     ]
    }
   ],
   "source": [
    "trip = input().split(' - ')\n",
    "\n",
    "print(trip)"
   ]
  },
  {
   "cell_type": "markdown",
   "id": "8bcacb2d",
   "metadata": {
    "pycharm": {
     "name": "#%% md\n"
    }
   },
   "source": [
    "### Make Node classes from nodes (set)\n",
    "used for create Edge class"
   ]
  },
  {
   "cell_type": "code",
   "execution_count": 31,
   "id": "63668c99",
   "metadata": {
    "pycharm": {
     "name": "#%%\n"
    }
   },
   "outputs": [],
   "source": [
    "nodeSearch = [x.split(',')[1] for x in nodes]\n",
    "\n",
    "SourcePath = nodeSearch.index(trip[0])\n",
    "DestinationPath = nodeSearch.index(trip[1])\n",
    "\n",
    "print(SourcePath)\n",
    "print(DestinationPath)"
   ]
  },
  {
   "cell_type": "markdown",
   "id": "739408a0",
   "metadata": {
    "pycharm": {
     "name": "#%% md\n"
    }
   },
   "source": [
    "### Made edge lists\n",
    "edge list used for dijkstra proccess "
   ]
  },
  {
   "cell_type": "code",
   "execution_count": 33,
   "id": "6792addc",
   "metadata": {
    "pycharm": {
     "name": "#%%\n"
    }
   },
   "outputs": [],
   "source": [
    "DestinationPathClass = NodeClass[DestinationPath]\n",
    "\n",
    "nodes = list(nodes)\n",
    "edges = []\n",
    "EdgeClass = []\n",
    "\n",
    "for i in df.values:\n",
    "    source = nodes.index(i[3] + \",\" + i[1] + \",\" + i[4] + \",\" + str(i[5]) + \",\" + str(i[6]) + \",\" + str(i[7]))\n",
    "    destination = nodes.index(i[8] + \",\" + i[2] + \",\" + i[9] + \",\" + str(i[10]) + \",\" + str(i[11]) + \",\" + str(i[12]))\n",
    "    edges.append([source, destination,\n",
    "                  Edge(NodeClass[source], NodeClass[destination], DestinationPathClass, i[13],i[14], i[15])\n",
    "                 ])"
   ]
  },
  {
   "cell_type": "markdown",
   "id": "dde23005",
   "metadata": {
    "pycharm": {
     "name": "#%% md\n"
    }
   },
   "source": [
    "## Dijkstra find Shortest Path function"
   ]
  },
  {
   "cell_type": "markdown",
   "id": "9c73c914",
   "metadata": {
    "direction": "rtl",
    "pycharm": {
     "name": "#%% md\n"
    }
   },
   "source": [
    "نحوه کار این تابع به این شکل است که هر بار وارد گره ای می شود تمامی مسیر های خارج شده از آن را به minHeap اضافه می کند و پس از آن کوتاه ترین مسیر را از minHeap انتخواب و به گره بعدی می رود. بدین ترتیب هر بار به گره ای برسد چون هر بار کمترین مسیر را انتخواب کرده، کمتر مسیر است پس دفعات بعدی که به آن گره برسد را در نظر نمی گیرد. در مواقعی که به یک گره جدید می رسد مسیر را ذخیره و درصورتی که به مقصد نهایی برسد اجرای تابع قطع می شود و مسیر را برمیگرداند. "
   ]
  },
  {
   "cell_type": "code",
   "execution_count": 34,
   "id": "0bb30112",
   "metadata": {
    "pycharm": {
     "name": "#%%\n"
    }
   },
   "outputs": [],
   "source": [
    "def ShortestPath(N, Edges, Src, Dis):\n",
    "    adj = {}\n",
    "    for j in range(N):\n",
    "        adj[j] = []\n",
    "\n",
    "    for s, d, edge in Edges:\n",
    "        adj[s].append([d, edge.weight, edge])\n",
    "\n",
    "    shortest = {}  # map vertex -> dict of the shortest path\n",
    "\n",
    "    minHeap = [[0, Src, [Src], []]]\n",
    "\n",
    "    while minHeap:\n",
    "        w1, n1, way1, edge1 = heapq.heappop(minHeap)\n",
    "        if n1 in shortest:\n",
    "            continue\n",
    "        shortest[n1] = [way1, edge1]\n",
    "        if n1 == Dis:\n",
    "            break\n",
    "\n",
    "        for n2, w2, edge2 in adj[n1]:\n",
    "            if n2 not in shortest:\n",
    "                heapq.heappush(minHeap, [w1 + w2, n2, way1 + [n2], edge1 + [edge2]])\n",
    "\n",
    "    for k in range(N):\n",
    "        if k not in shortest:\n",
    "            shortest[k] = -1\n",
    "\n",
    "    return shortest"
   ]
  },
  {
   "cell_type": "markdown",
   "id": "3e196602",
   "metadata": {
    "pycharm": {
     "name": "#%% md\n"
    }
   },
   "source": [
    "#### Preparing Output"
   ]
  },
  {
   "cell_type": "code",
   "execution_count": 35,
   "id": "21d21451",
   "metadata": {
    "pycharm": {
     "name": "#%%\n"
    }
   },
   "outputs": [
    {
     "name": "stdout",
     "output_type": "stream",
     "text": [
      "Flight #1:\n",
      "From: Tehran-Imam Khomeini International Airport, Iran\n",
      "To: Istanbul-Atatürk International Airport, Turkey\n",
      "Duration: 2040.98km\n",
      "Time: 3.04h\n",
      "Price: 990.49$ \n",
      "----------------------------\n",
      "Flight #2:\n",
      "From: Istanbul-Atatürk International Airport, Turkey\n",
      "To: Washington-Washington Dulles International Airport, United States\n",
      "Duration: 8413.02km\n",
      "Time: 10.95h\n",
      "Price: 4176.51$ \n",
      "----------------------------\n",
      "Flight #3:\n",
      "From: Washington-Washington Dulles International Airport, United States\n",
      "To: Raleigh-durham-Raleigh Durham International Airport, United States\n",
      "Duration: 360.72km\n",
      "Time: 0.95h\n",
      "Price: 150.36$ \n",
      "----------------------------\n",
      "total Price: 5317$\n",
      "total Duration: 10815KM\n",
      "total Fly Time : 15H\n"
     ]
    }
   ],
   "source": [
    "Duration = 0\n",
    "FlyTime = 0\n",
    "Price = 0\n",
    "index = 1\n",
    "for i in ShortestPath(len(nodes), edges, SourcePath, DestinationPath)[nodeSearch.index(trip[1])][1]:\n",
    "    print('Flight #' + str(index) + \":\")\n",
    "    index += 1\n",
    "    Duration += round(i.distance)\n",
    "    Time += round(i.flyTime)\n",
    "    Price += round(i.price)\n",
    "    print(str(i), \"\\n----------------------------\")\n",
    "\n",
    "print(\"total Price: \" + str(Price) + \"$\")\n",
    "print(\"total Duration: \" + str(Duration) + \"KM\")\n",
    "print(\"total Fly Time : \" + str(Time) + \"H\")\n"
   ]
  },
  {
   "cell_type": "markdown",
   "id": "ed8793da",
   "metadata": {
    "pycharm": {
     "name": "#%% md\n"
    }
   },
   "source": [
    "# End\n",
    "## other Resource\n",
    "https://youtu.be/XEb7_z5dG3c?si=hE5rwWGypR5ytY7_"
   ]
  }
 ],
 "metadata": {
  "kernelspec": {
   "display_name": "Python 3 (ipykernel)",
   "language": "python",
   "name": "python3"
  },
  "language_info": {
   "codemirror_mode": {
    "name": "ipython",
    "version": 3
   },
   "file_extension": ".py",
   "mimetype": "text/x-python",
   "name": "python",
   "nbconvert_exporter": "python",
   "pygments_lexer": "ipython3",
   "version": "3.9.13"
  }
 },
 "nbformat": 4,
 "nbformat_minor": 5
}