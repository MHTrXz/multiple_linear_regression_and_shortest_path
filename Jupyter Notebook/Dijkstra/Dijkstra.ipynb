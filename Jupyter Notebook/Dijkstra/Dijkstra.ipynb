{
 "cells": [
  {
   "cell_type": "markdown",
   "id": "1c9372f4",
   "metadata": {
    "pycharm": {
     "name": "#%% md\n"
    }
   },
   "source": [
    "# Find Best Flights - Dijkstra"
   ]
  },
  {
   "cell_type": "markdown",
   "id": "5f798592",
   "metadata": {
    "pycharm": {
     "name": "#%% md\n"
    }
   },
   "source": [
    "#### load libraries "
   ]
  },
  {
   "cell_type": "code",
   "execution_count": 42,
   "id": "751fd34f",
   "metadata": {
    "pycharm": {
     "name": "#%%\n"
    }
   },
   "outputs": [],
   "source": [
    "import heapq\n",
    "from pandas import read_csv"
   ]
  },
  {
   "cell_type": "markdown",
   "id": "a4bce243",
   "metadata": {
    "pycharm": {
     "name": "#%% md\n"
    }
   },
   "source": [
    "#### Set DataFrame"
   ]
  },
  {
   "cell_type": "code",
   "execution_count": 43,
   "id": "bcd22761",
   "metadata": {
    "pycharm": {
     "name": "#%%\n"
    }
   },
   "outputs": [],
   "source": [
    "df = read_csv('Flight_Data.csv')\n",
    "\n",
    "print(df)"
   ]
  },
  {
   "cell_type": "markdown",
   "id": "8cdb4f00",
   "metadata": {
    "pycharm": {
     "name": "#%% md\n"
    }
   },
   "source": [
    "### Dijkstra Configs"
   ]
  },
  {
   "cell_type": "markdown",
   "id": "b9828756",
   "metadata": {
    "direction": "rtl",
    "pycharm": {
     "name": "#%% md\n"
    }
   },
   "source": [
    "با استفاده از ضرایب خواسته شده وزن هر مسیر مشخص می شود و بر اساس آن مسیریابی انجام می شود."
   ]
  },
  {
   "cell_type": "code",
   "execution_count": 44,
   "id": "e43b6a18",
   "metadata": {
    "pycharm": {
     "name": "#%%\n"
    }
   },
   "outputs": [],
   "source": [
    "Time = 0\n",
    "Distance = 1\n",
    "Price = 0"
   ]
  },
  {
   "cell_type": "markdown",
   "id": "953d415c",
   "metadata": {
    "pycharm": {
     "name": "#%% md\n"
    }
   },
   "source": [
    "#### Getting input\n",
    "It's like \"Imam Khomeini International Airport - Raleigh Durham International Airport\""
   ]
  },
  {
   "cell_type": "code",
   "execution_count": 45,
   "id": "5d3780d5",
   "metadata": {
    "pycharm": {
     "name": "#%%\n"
    }
   },
   "outputs": [
    {
     "name": "stdout",
     "output_type": "stream",
     "text": [
      "Imam Khomeini International Airport - Raleigh Durham International Airport\n"
     ]
    }
   ],
   "source": [
    "trip = input().split(' - ')\n",
    "\n",
    "print(trip)"
   ]
  },
  {
   "cell_type": "markdown",
   "id": "8f9b9b91",
   "metadata": {
    "pycharm": {
     "name": "#%% md\n"
    }
   },
   "source": [
    "### Weight calculator for Dijkstra"
   ]
  },
  {
   "cell_type": "code",
   "execution_count": 46,
   "id": "076c7774",
   "metadata": {
    "pycharm": {
     "name": "#%%\n"
    }
   },
   "outputs": [],
   "source": [
    "def calculate(distance, flyTime, price):\n",
    "    return round(Time * flyTime + Distance * distance + Price * price)"
   ]
  },
  {
   "cell_type": "markdown",
   "id": "364d5469",
   "metadata": {
    "pycharm": {
     "name": "#%% md\n"
    }
   },
   "source": [
    "#### Node CLass"
   ]
  },
  {
   "cell_type": "code",
   "execution_count": 47,
   "id": "68c2c3b9",
   "metadata": {
    "pycharm": {
     "name": "#%%\n"
    }
   },
   "outputs": [],
   "source": [
    "class Node:\n",
    "    def __init__(self, Airport, Airport_Country, Airport_City):\n",
    "        # Source data\n",
    "        self.Airport = Airport\n",
    "        self.Country = Airport_Country\n",
    "        self.City = Airport_City\n",
    "\n",
    "    def __str__(self):\n",
    "        return self.City + \"-\" + self.Airport + \", \" + self.Country\n"
   ]
  },
  {
   "cell_type": "markdown",
   "id": "a0b7267e",
   "metadata": {
    "pycharm": {
     "name": "#%% md\n"
    }
   },
   "source": [
    "#### Edge Class"
   ]
  },
  {
   "cell_type": "code",
   "execution_count": 48,
   "id": "fdad5781",
   "metadata": {
    "pycharm": {
     "name": "#%%\n"
    }
   },
   "outputs": [],
   "source": [
    "class Edge:\n",
    "    def __init__(self, Source, Destination, distance, flyTime, price):\n",
    "        self.price = round(price, 2)\n",
    "        self.flyTime = round(flyTime)\n",
    "        self.distance = round(distance, 2)\n",
    "        self.destination = Destination\n",
    "        self.source = Source\n",
    "        self.weight = calculate(distance, flyTime, price)\n",
    "\n",
    "    def __str__(self):\n",
    "        return \"From: \" + str(self.source) + \"\\nTo: \" + str(self.destination) + \"\\nDuration: \" + str(\n",
    "            self.distance) + \"km\\nTime: \" + str(self.flyTime) + \"h\\nPrice: \" + str(self.price) + \"$\"\n",
    "    \n",
    "    def __gt__(self, other):\n",
    "        return self.weight > other.weight\n",
    "    "
   ]
  },
  {
   "cell_type": "markdown",
   "id": "b0984493",
   "metadata": {
    "pycharm": {
     "name": "#%% md\n"
    }
   },
   "source": [
    "#### Find Unique Nodes"
   ]
  },
  {
   "cell_type": "code",
   "execution_count": 49,
   "id": "2e473356",
   "metadata": {
    "pycharm": {
     "name": "#%%\n"
    }
   },
   "outputs": [],
   "source": [
    "nodes = set()\n",
    "for data in df.values:\n",
    "    nodes.add(data[3] + \",\" + data[1] + \",\" + data[4])\n",
    "    nodes.add(data[8] + \",\" + data[2] + \",\" + data[9])\n",
    "\n",
    "print(nodes)"
   ]
  },
  {
   "cell_type": "markdown",
   "id": "e6075245",
   "metadata": {
    "pycharm": {
     "name": "#%% md\n"
    }
   },
   "source": [
    "### Make Node classes from nodes (set)\n",
    "used for create Edge class"
   ]
  },
  {
   "cell_type": "code",
   "execution_count": 50,
   "id": "29ac5d81",
   "metadata": {
    "pycharm": {
     "name": "#%%\n"
    }
   },
   "outputs": [],
   "source": [
    "NodeClass = []\n",
    "for i in nodes:\n",
    "    data = i.split(',')\n",
    "    NodeClass.append(Node(data[1], data[2], data[0]))\n",
    "    \n",
    "print(NodeClass)"
   ]
  },
  {
   "cell_type": "markdown",
   "id": "eed831ee",
   "metadata": {
    "pycharm": {
     "name": "#%% md\n"
    }
   },
   "source": [
    "### Made edge lists\n",
    "edge list used for dijkstra proccess "
   ]
  },
  {
   "cell_type": "code",
   "execution_count": 51,
   "id": "83fe0c0b",
   "metadata": {
    "pycharm": {
     "name": "#%%\n"
    }
   },
   "outputs": [],
   "source": [
    "nodes = list(nodes)\n",
    "\n",
    "edges = []\n",
    "\n",
    "for i in df.values:\n",
    "    source = nodes.index(i[3] + \",\" + i[1] + \",\" + i[4])\n",
    "    destination = nodes.index(i[8] + \",\" + i[2] + \",\" + i[9])\n",
    "    edges.append([nodes.index(i[3] + \",\" + i[1] + \",\" + i[4]), nodes.index(i[8] + \",\" + i[2] + \",\" + i[9]),\n",
    "                  Edge(NodeClass[source], NodeClass[destination], i[13], i[14], i[15])])\n",
    "\n",
    "print(edges)"
   ]
  },
  {
   "cell_type": "markdown",
   "id": "660ec824",
   "metadata": {
    "direction": "ltr",
    "pycharm": {
     "name": "#%% md\n"
    }
   },
   "source": [
    "## Dijkstra find Shortest Path function"
   ]
  },
  {
   "cell_type": "markdown",
   "id": "928b03a0",
   "metadata": {
    "direction": "rtl",
    "pycharm": {
     "name": "#%% md\n"
    }
   },
   "source": [
    "نحوه کار این تابع به این شکل است که هر بار وارد گره ای می شود تمامی مسیر های خارج شده از آن را به minHeap اضافه می کند و پس از آن کوتاه ترین مسیر را از minHeap انتخواب و به گره بعدی می رود. بدین ترتیب هر بار به گره ای برسد چون هر بار کمترین مسیر را انتخواب کرده، کمتر مسیر است پس دفعات بعدی که به آن گره برسد را در نظر نمی گیرد. در مواقعی که به یک گره جدید می رسد مسیر را ذخیره و درصورتی که به مقصد نهایی برسد اجرای تابع قطع می شود و مسیر را برمیگرداند. "
   ]
  },
  {
   "cell_type": "code",
   "execution_count": 52,
   "id": "9e2a8488",
   "metadata": {
    "pycharm": {
     "name": "#%%\n"
    }
   },
   "outputs": [],
   "source": [
    "def ShortestPath(N, Edges, Src, Dis):\n",
    "    adj = {}\n",
    "    for j in range(N):\n",
    "        adj[j] = []\n",
    "\n",
    "    for s, d, edge in Edges:\n",
    "        adj[s].append([d, edge.weight, edge])\n",
    "\n",
    "    shortest = {}  # map vertex -> dict of the shortest path\n",
    "\n",
    "    minHeap = [[0, Src, [Src], []]]\n",
    "\n",
    "    while minHeap:\n",
    "        w1, n1, way1, edge1 = heapq.heappop(minHeap)\n",
    "        if n1 in shortest:\n",
    "            continue\n",
    "        shortest[n1] = [way1, edge1]\n",
    "        if n1 == Dis:  # find answer\n",
    "            break\n",
    "\n",
    "        for n2, w2, edge2 in adj[n1]:\n",
    "            if n2 not in shortest:\n",
    "                heapq.heappush(minHeap, [w1 + w2, n2, way1 + [n2], edge1 + [edge2]])\n",
    "\n",
    "    for k in range(N):\n",
    "        if k not in shortest:\n",
    "            shortest[k] = -1\n",
    "\n",
    "    return shortest"
   ]
  },
  {
   "cell_type": "markdown",
   "id": "49e04788",
   "metadata": {
    "pycharm": {
     "name": "#%% md\n"
    }
   },
   "source": [
    "#### Preparing Output"
   ]
  },
  {
   "cell_type": "code",
   "execution_count": 53,
   "id": "3641c97a",
   "metadata": {
    "pycharm": {
     "name": "#%%\n"
    }
   },
   "outputs": [
    {
     "name": "stdout",
     "output_type": "stream",
     "text": [
      "Flight #1:\n",
      "From: Tehran-Imam Khomeini International Airport, Iran\n",
      "To: Istanbul-Atatürk International Airport, Turkey\n",
      "Duration: 2040.98km\n",
      "Time: 3h\n",
      "Price: 990.49$ \n",
      "----------------------------\n",
      "Flight #2:\n",
      "From: Istanbul-Atatürk International Airport, Turkey\n",
      "To: New York-John F Kennedy International Airport, United States\n",
      "Duration: 8051.74km\n",
      "Time: 11h\n",
      "Price: 3995.87$ \n",
      "----------------------------\n",
      "Flight #3:\n",
      "From: New York-John F Kennedy International Airport, United States\n",
      "To: Raleigh-durham-Raleigh Durham International Airport, United States\n",
      "Duration: 686.5km\n",
      "Time: 1h\n",
      "Price: 313.25$ \n",
      "----------------------------\n",
      "total Price: 5299$\n",
      "total Duration: 10779KM\n",
      "total Fly Time : 15H\n"
     ]
    }
   ],
   "source": [
    "nodeSearch = [x.split(',')[1] for x in nodes]\n",
    "\n",
    "SourcePath = nodeSearch.index(trip[0])\n",
    "DestinationPath = nodeSearch.index(trip[1])\n",
    "\n",
    "Duration = 0\n",
    "FlyTime = 0\n",
    "Price = 0\n",
    "index = 1\n",
    "for i in ShortestPath(len(nodes), edges, SourcePath, DestinationPath)[nodeSearch.index(trip[1])][1]:\n",
    "    print('Flight #' + str(index) + \":\")\n",
    "    index += 1\n",
    "    Duration += round(i.distance)\n",
    "    Time += round(i.flyTime)\n",
    "    Price += round(i.price)\n",
    "    print(str(i), \"\\n----------------------------\")\n",
    "\n",
    "print(\"total Price: \" + str(Price) + \"$\")\n",
    "print(\"total Duration: \" + str(Duration) + \"KM\")\n",
    "print(\"total Fly Time : \" + str(Time) + \"H\")"
   ]
  },
  {
   "cell_type": "markdown",
   "id": "f5856cff",
   "metadata": {
    "pycharm": {
     "name": "#%% md\n"
    }
   },
   "source": [
    "# End\n",
    "## other Resource\n",
    "https://youtu.be/XEb7_z5dG3c?si=hE5rwWGypR5ytY7_"
   ]
  },
  {
   "cell_type": "code",
   "execution_count": null,
   "outputs": [],
   "source": [],
   "metadata": {
    "collapsed": false,
    "pycharm": {
     "name": "#%%\n"
    }
   }
  }
 ],
 "metadata": {
  "direction": "ltr",
  "kernelspec": {
   "display_name": "Python 3 (ipykernel)",
   "language": "python",
   "name": "python3"
  },
  "language_info": {
   "codemirror_mode": {
    "name": "ipython",
    "version": 3
   },
   "file_extension": ".py",
   "mimetype": "text/x-python",
   "name": "python",
   "nbconvert_exporter": "python",
   "pygments_lexer": "ipython3",
   "version": "3.9.13"
  }
 },
 "nbformat": 4,
 "nbformat_minor": 5
}