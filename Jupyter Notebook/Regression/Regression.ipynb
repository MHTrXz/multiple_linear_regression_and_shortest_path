{
 "cells": [
  {
   "cell_type": "markdown",
   "id": "b15c4a79",
   "metadata": {
    "pycharm": {
     "name": "#%% md\n"
    }
   },
   "source": [
    "# Multiple linear Regression"
   ]
  },
  {
   "cell_type": "markdown",
   "id": "8f078d90",
   "metadata": {
    "pycharm": {
     "name": "#%% md\n"
    }
   },
   "source": [
    "#### Import packeges"
   ]
  },
  {
   "cell_type": "code",
   "execution_count": 1,
   "id": "c6040a91",
   "metadata": {
    "pycharm": {
     "name": "#%%\n"
    }
   },
   "outputs": [],
   "source": [
    "import pandas as pd\n",
    "from sklearn.model_selection import train_test_split\n",
    "from sklearn.preprocessing import LabelEncoder\n",
    "from sklearn.metrics import r2_score"
   ]
  },
  {
   "cell_type": "markdown",
   "id": "f521e92d",
   "metadata": {
    "pycharm": {
     "name": "#%% md\n"
    }
   },
   "source": [
    "### Create DataFrame & Grouping Data\n",
    "Convert batch data to a processable value"
   ]
  },
  {
   "cell_type": "code",
   "execution_count": 2,
   "id": "223e279f",
   "metadata": {
    "pycharm": {
     "name": "#%%\n"
    }
   },
   "outputs": [
    {
     "name": "stdout",
     "output_type": "stream",
     "text": [
      "        departure_time  stops  arrival_time  class  duration  days_left  price\n",
      "0                    2      2             5      1      2.17          1   2266\n",
      "1                    1      2             4      1      2.33          1   2266\n",
      "2                    1      2             1      1      2.17          1   2269\n",
      "3                    4      2             0      1      2.25          1   2268\n",
      "4                    4      2             4      1      2.33          1   2268\n",
      "...                ...    ...           ...    ...       ...        ...    ...\n",
      "270133               1      0             5      0     17.25         49  10885\n",
      "270134               4      0             2      0     10.08         49  10905\n",
      "270135               0      0             5      0     10.42         49  11240\n",
      "270136               1      0             2      0     10.00         49  11398\n",
      "270137               4      0             2      0     10.08         49  11398\n",
      "\n",
      "[270138 rows x 7 columns]\n"
     ]
    }
   ],
   "source": [
    "data = pd.read_csv(\"Flight_Price_Dataset_Q2.csv\")\n",
    "\n",
    "label_encoder = LabelEncoder()\n",
    "\n",
    "data['stops'] = label_encoder.fit_transform(data['stops'])\n",
    "data['departure_time'] = label_encoder.fit_transform(data['departure_time'])\n",
    "data['arrival_time'] = label_encoder.fit_transform(data['arrival_time'])\n",
    "data['class'] = label_encoder.fit_transform(data['class'])\n",
    "data['price'] = label_encoder.fit_transform(data['price'])\n",
    "\n",
    "print(data)"
   ]
  },
  {
   "cell_type": "markdown",
   "id": "58929f66",
   "metadata": {
    "pycharm": {
     "name": "#%% md\n"
    }
   },
   "source": [
    "### Data filtering, data segmentation for training and batch testing, and data scaling"
   ]
  },
  {
   "cell_type": "code",
   "execution_count": 3,
   "id": "3773b623",
   "metadata": {
    "pycharm": {
     "name": "#%%\n"
    }
   },
   "outputs": [],
   "source": [
    "x = data.filter(['departure_time', 'stops', 'arrival_time', 'class', 'duration', 'days_left'])\n",
    "y = data.filter(['price'])\n",
    "\n",
    "yScale = y['price'].mean()\n",
    "departureTimeScale = x['departure_time'].mean()\n",
    "stopsScale = x['stops'].mean()\n",
    "arrivalTimeScale = x['arrival_time'].mean()\n",
    "classScale = x['class'].mean()\n",
    "durationScale = x['duration'].mean()\n",
    "daysLeftScale = x['days_left'].mean()\n",
    "\n",
    "x['departure_time'] = x['departure_time']/departureTimeScale\n",
    "x['stops'] = x['stops']/stopsScale\n",
    "x['arrival_time'] = x['arrival_time']/arrivalTimeScale\n",
    "x['class'] = x['class']/classScale\n",
    "x['duration'] = x['duration']/durationScale\n",
    "x['days_left'] = x['days_left']/daysLeftScale\n",
    "# y['price'] = y['price']/yScale\n",
    "\n",
    "x_train, x_test, y_train, y_test = train_test_split(x, y, test_size=0.2, shuffle=True)\n",
    "\n",
    "y = y_train['price']\n",
    "yt = y_test['price']\n",
    "del y_train, y_test\n",
    "\n",
    "x1 = x_train['departure_time']\n",
    "x2 = x_train['stops']\n",
    "x3 = x_train['arrival_time']\n",
    "x4 = x_train['class']\n",
    "x5 = x_train['duration']\n",
    "x6 = x_train['days_left']\n",
    "\n",
    "xt1 = x_test['departure_time']\n",
    "xt2 = x_test['stops']\n",
    "xt3 = x_test['arrival_time']\n",
    "xt4 = x_test['class']\n",
    "xt5 = x_test['duration']\n",
    "xt6 = x_test['days_left']\n",
    "\n",
    "del x_train, x_test"
   ]
  },
  {
   "cell_type": "markdown",
   "id": "ac37c27a",
   "metadata": {
    "pycharm": {
     "name": "#%% md\n"
    }
   },
   "source": [
    "## Gradient descent algorithm\n",
    "The formula used for descenting\n",
    "\n",
    "\n",
    "\\\\[ D_m = \\frac{1}{n} \\sum_{i=0}^n 2(y_i - (mx_i + c))(-x_i) \\\\]\n",
    "\n",
    "\\\\[ D_m = \\frac{-2}{n} \\sum_{i=0}^n x_i(y_i - \\bar y_i) \\\\]"
   ]
  },
  {
   "cell_type": "code",
   "execution_count": 4,
   "id": "30a37701",
   "metadata": {
    "pycharm": {
     "name": "#%%\n"
    }
   },
   "outputs": [
    {
     "name": "stdout",
     "output_type": "stream",
     "text": [
      "w0: 11202.587883249897\n",
      "w1: 18.83349463839338\n",
      "w2: -111.43376390914662\n",
      "w3: 72.59789993629772\n",
      "w4: -5139.883829313327\n",
      "w5: 575.8882070789145\n",
      "w6: -1661.9533093824032\n"
     ]
    }
   ],
   "source": [
    "# Building the model\n",
    "w0 = 0\n",
    "w1 = 0\n",
    "w2 = 0\n",
    "w3 = 0\n",
    "w4 = 0\n",
    "w5 = 0\n",
    "w6 = 0\n",
    "\n",
    "L = 0.1  # The learning Rate\n",
    "epochs = 1000  # The number of iterations to perform gradient descent\n",
    "\n",
    "n = float(len(y)) # Number of elements in X\n",
    "\n",
    "# Performing Gradient Descent \n",
    "for i in range(epochs): \n",
    "    y_pred = w0 + w1 * x1 +  w2 * x2 +  w3 * x3 +  w4 * x4 +  w5 * x5 + w6 * x6  # The current predicted value of Y\n",
    "    \n",
    "    dif = y - y_pred\n",
    "    \n",
    "    D_w0 = (-2/n) * sum(dif)  # Derivative wrt w0\n",
    "    D_w1 = (-2/n) * sum(x1 * dif)  # Derivative wrt w1\n",
    "    D_w2 = (-2/n) * sum(x2 * dif)  # Derivative wrt w2\n",
    "    D_w3 = (-2/n) * sum(x3 * dif)  # Derivative wrt w3\n",
    "    D_w4 = (-2/n) * sum(x4 * dif)  # Derivative wrt w4\n",
    "    D_w5 = (-2/n) * sum(x5 * dif)  # Derivative wrt w5\n",
    "    D_w6 = (-2/n) * sum(x6 * dif)  # Derivative wrt w6\n",
    "    \n",
    "    w0 = w0 - L * D_w0  # Update w0\n",
    "    w1 = w1 - L * D_w1  # Update w1\n",
    "    w2 = w2 - L * D_w2  # Update w2\n",
    "    w3 = w3 - L * D_w3  # Update w3\n",
    "    w4 = w4 - L * D_w4  # Update w4\n",
    "    w5 = w5 - L * D_w5  # Update w5\n",
    "    w6 = w6 - L * D_w6  # Update w6\n",
    "\n",
    "print ('w0:', w0)\n",
    "print ('w1:', w1)\n",
    "print ('w2:', w2)\n",
    "print ('w3:', w3)\n",
    "print ('w4:', w4)\n",
    "print ('w5:', w5)\n",
    "print ('w6:', w6)"
   ]
  },
  {
   "cell_type": "markdown",
   "id": "5e5fc4e5",
   "metadata": {
    "pycharm": {
     "name": "#%% md\n"
    }
   },
   "source": [
    "### Output"
   ]
  },
  {
   "cell_type": "code",
   "execution_count": 5,
   "id": "081ce068",
   "metadata": {
    "pycharm": {
     "name": "#%%\n"
    }
   },
   "outputs": [
    {
     "name": "stdout",
     "output_type": "stream",
     "text": [
      "11202.587883249897 + 18.83349463839338 [departure_time] + -111.43376390914662 [stops] + 72.59789993629772 [arrival_time] + -5139.883829313327 [class] + 575.8882070789145 [duration] + -1661.9533093824032 [days_left]\n"
     ]
    }
   ],
   "source": [
    "output = str(w0) + \" + \"\n",
    "output += str(w1) + \" [departure_time] + \"\n",
    "output += str(w2) + \" [stops] + \"\n",
    "output += str(w3) + \" [arrival_time] + \"\n",
    "output += str(w4) + \" [class] + \"\n",
    "output += str(w5) + \" [duration] + \"\n",
    "output += str(w6) + \" [days_left]\"\n",
    "print(output)"
   ]
  },
  {
   "cell_type": "markdown",
   "id": "739deb66",
   "metadata": {
    "pycharm": {
     "name": "#%% md\n"
    }
   },
   "source": [
    "### Predict value of Y test"
   ]
  },
  {
   "cell_type": "code",
   "execution_count": 6,
   "id": "70f43664",
   "metadata": {
    "pycharm": {
     "name": "#%%\n"
    }
   },
   "outputs": [],
   "source": [
    "y_pred = w0 + w1 * xt1 +  w2 * xt2 +  w3 * xt3 +  w4 * xt4 +  w5 * xt5 + w6 * xt6"
   ]
  },
  {
   "cell_type": "markdown",
   "id": "c071596f",
   "metadata": {
    "pycharm": {
     "name": "#%% md\n"
    }
   },
   "source": [
    "## MSE Error"
   ]
  },
  {
   "cell_type": "code",
   "execution_count": 7,
   "id": "b2cb15bb",
   "metadata": {
    "pycharm": {
     "name": "#%%\n"
    }
   },
   "outputs": [
    {
     "name": "stdout",
     "output_type": "stream",
     "text": [
      "MSE: 2330100.8241257165\n"
     ]
    }
   ],
   "source": [
    "y_pred = w0 + w1 * xt1 +  w2 * xt2 +  w3 * xt3 +  w4 * xt4 +  w5 * xt5 + w6 * xt6  # Predicted value of Y train\n",
    "error = (yt - y_pred)\n",
    "loss = (error ** 2).mean()\n",
    "\n",
    "print('MSE:', loss)"
   ]
  },
  {
   "cell_type": "markdown",
   "id": "a71ffa4d",
   "metadata": {
    "pycharm": {
     "name": "#%% md\n"
    }
   },
   "source": [
    "## RMSE Error"
   ]
  },
  {
   "cell_type": "code",
   "execution_count": 8,
   "id": "3c6dcc9e",
   "metadata": {
    "pycharm": {
     "name": "#%%\n"
    }
   },
   "outputs": [
    {
     "name": "stdout",
     "output_type": "stream",
     "text": [
      "MSE:  1526.4667779305635\n"
     ]
    }
   ],
   "source": [
    "print('MSE: ', loss ** 0.5)"
   ]
  },
  {
   "cell_type": "markdown",
   "id": "c6a0ddcf",
   "metadata": {
    "pycharm": {
     "name": "#%% md\n"
    }
   },
   "source": [
    "## MAE Error"
   ]
  },
  {
   "cell_type": "code",
   "execution_count": 9,
   "id": "1a1ba053",
   "metadata": {
    "pycharm": {
     "name": "#%%\n"
    }
   },
   "outputs": [
    {
     "name": "stdout",
     "output_type": "stream",
     "text": [
      "MAE: 297.7835520476051\n"
     ]
    }
   ],
   "source": [
    "print('MAE:',(1/n) * sum(abs(yt - y_pred)))"
   ]
  },
  {
   "cell_type": "markdown",
   "id": "2662ecd9",
   "metadata": {
    "pycharm": {
     "name": "#%% md\n"
    }
   },
   "source": [
    "## R2 Error"
   ]
  },
  {
   "cell_type": "code",
   "execution_count": 10,
   "id": "cb96db35",
   "metadata": {
    "pycharm": {
     "name": "#%%\n"
    }
   },
   "outputs": [
    {
     "name": "stdout",
     "output_type": "stream",
     "text": [
      "R2: 0.8531608969668172\n"
     ]
    }
   ],
   "source": [
    "y_pred = w0 + w1 * xt1 +  w2 * xt2 +  w3 * xt3 +  w4 * xt4 +  w5 * xt5 + w6 * xt6  # Predicted value of Y train\n",
    "print('R2:', r2_score(list(yt), list(y_pred)))"
   ]
  },
  {
   "cell_type": "markdown",
   "id": "ad0888ba",
   "metadata": {
    "pycharm": {
     "name": "#%% md\n"
    }
   },
   "source": [
    "# End\n",
    "## other Resource\n",
    "https://github.com/chasinginfinity/ml-from-scratch/tree/master/02%20Linear%20Regression%20using%20Gradient%20Descent"
   ]
  }
 ],
 "metadata": {
  "kernelspec": {
   "display_name": "Python 3 (ipykernel)",
   "language": "python",
   "name": "python3"
  },
  "language_info": {
   "codemirror_mode": {
    "name": "ipython",
    "version": 3
   },
   "file_extension": ".py",
   "mimetype": "text/x-python",
   "name": "python",
   "nbconvert_exporter": "python",
   "pygments_lexer": "ipython3",
   "version": "3.9.13"
  }
 },
 "nbformat": 4,
 "nbformat_minor": 5
}